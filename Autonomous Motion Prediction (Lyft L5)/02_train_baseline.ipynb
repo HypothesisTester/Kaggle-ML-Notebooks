{
 "cells": [
  {
   "cell_type": "markdown",
   "metadata": {
    "papermill": {
     "duration": 0.009123,
     "end_time": "2025-09-23T19:04:08.998929",
     "exception": false,
     "start_time": "2025-09-23T19:04:08.989806",
     "status": "completed"
    },
    "tags": []
   },
   "source": [
    "# Motion Prediction Baseline — **Training with PyTorch & L5Kit**\n",
    "_Aim:_ train a simple BEV-based baseline on the **Lyft Level-5 Motion Prediction** data.\n",
    "\n",
    "Author of the project is Kevin Molloy.\n",
    "\n",
    "**What you’ll see**\n",
    "- BEV raster inputs → ResNet backbone → future (x, y) trajectories.\n",
    "- Minimal, readable training loop + periodic checkpoints."
   ]
  },
  {
   "cell_type": "markdown",
   "metadata": {
    "_cell_guid": "79c7e3d0-c299-4dcb-8224-4455121ee9b0",
    "_uuid": "d629ff2d2480ee46fbb7e2d37f6b5fab8052498a",
    "collapsed": true,
    "jupyter": {
     "outputs_hidden": true
    },
    "papermill": {
     "duration": 0.007562,
     "end_time": "2025-09-23T19:04:09.014397",
     "exception": false,
     "start_time": "2025-09-23T19:04:09.006835",
     "status": "completed"
    },
    "tags": []
   },
   "source": [
    "## Notes (Run First)\n",
    "- **Enable a GPU** (P100) before training.\n",
    "- Make sure the **Lyft dataset** and any **L5Kit utility script** are added to the notebook.\n",
    "- Parts of the code follow Lyft’s official example and the baseline inference notebook."
   ]
  },
  {
   "cell_type": "markdown",
   "metadata": {
    "papermill": {
     "duration": 0.007527,
     "end_time": "2025-09-23T19:04:09.029627",
     "exception": false,
     "start_time": "2025-09-23T19:04:09.022100",
     "status": "completed"
    },
    "tags": []
   },
   "source": [
    "## Imports & Setup\n",
    "This notebook uses **PyTorch** + **L5Kit** for data loading and rasterisation. "
   ]
  },
  {
   "cell_type": "code",
   "execution_count": 1,
   "metadata": {
    "execution": {
     "iopub.execute_input": "2025-09-23T19:04:09.050583Z",
     "iopub.status.busy": "2025-09-23T19:04:09.050027Z",
     "iopub.status.idle": "2025-09-23T19:04:13.678126Z",
     "shell.execute_reply": "2025-09-23T19:04:13.678571Z"
    },
    "papermill": {
     "duration": 4.64146,
     "end_time": "2025-09-23T19:04:13.678749",
     "exception": false,
     "start_time": "2025-09-23T19:04:09.037289",
     "status": "completed"
    },
    "tags": []
   },
   "outputs": [],
   "source": [
    "import numpy as np\n",
    "import os\n",
    "import torch\n",
    "\n",
    "from torch import nn, optim\n",
    "from torch.utils.data import DataLoader\n",
    "from torchvision.models.resnet import resnet18\n",
    "from tqdm import tqdm\n",
    "from typing import Dict\n",
    "\n",
    "from l5kit.data import LocalDataManager, ChunkedDataset\n",
    "from l5kit.dataset import AgentDataset, EgoDataset\n",
    "from l5kit.rasterization import build_rasterizer"
   ]
  },
  {
   "cell_type": "code",
   "execution_count": 2,
   "metadata": {
    "execution": {
     "iopub.execute_input": "2025-09-23T19:04:13.699160Z",
     "iopub.status.busy": "2025-09-23T19:04:13.698345Z",
     "iopub.status.idle": "2025-09-23T19:04:13.701031Z",
     "shell.execute_reply": "2025-09-23T19:04:13.700583Z"
    },
    "papermill": {
     "duration": 0.013789,
     "end_time": "2025-09-23T19:04:13.701114",
     "exception": false,
     "start_time": "2025-09-23T19:04:13.687325",
     "status": "completed"
    },
    "tags": []
   },
   "outputs": [],
   "source": [
    "DIR_INPUT = \"/kaggle/input/lyft-motion-prediction-autonomous-vehicles\"\n",
    "\n",
    "SINGLE_MODE_SUBMISSION = f\"{DIR_INPUT}/single_mode_sample_submission.csv\"\n",
    "MULTI_MODE_SUBMISSION = f\"{DIR_INPUT}/multi_mode_sample_submission.csv\"\n",
    "\n",
    "DEBUG = True"
   ]
  },
  {
   "cell_type": "markdown",
   "metadata": {
    "papermill": {
     "duration": 0.007807,
     "end_time": "2025-09-23T19:04:13.716778",
     "exception": false,
     "start_time": "2025-09-23T19:04:13.708971",
     "status": "completed"
    },
    "tags": []
   },
   "source": [
    "## Configuration (cfg)\n",
    "Central config for:\n",
    "- **model_params**: backbone, history/future frame counts.\n",
    "- **raster_params**: `raster_size`, `pixel_size`, `ego_center`, `map_type`.\n",
    "- **train_data_loader**: zarr key, batch size, workers, shuffle.\n",
    "- **train_params**: total steps and checkpoint interval.\n",
    "\n",
    "Tip: keep `DEBUG=True` for a quick smoke test; switch off to train fully."
   ]
  },
  {
   "cell_type": "code",
   "execution_count": 3,
   "metadata": {
    "execution": {
     "iopub.execute_input": "2025-09-23T19:04:13.742179Z",
     "iopub.status.busy": "2025-09-23T19:04:13.741463Z",
     "iopub.status.idle": "2025-09-23T19:04:13.744632Z",
     "shell.execute_reply": "2025-09-23T19:04:13.745030Z"
    },
    "papermill": {
     "duration": 0.020422,
     "end_time": "2025-09-23T19:04:13.745131",
     "exception": false,
     "start_time": "2025-09-23T19:04:13.724709",
     "status": "completed"
    },
    "tags": []
   },
   "outputs": [
    {
     "data": {
      "text/plain": [
       "False"
      ]
     },
     "execution_count": 3,
     "metadata": {},
     "output_type": "execute_result"
    }
   ],
   "source": [
    "cfg = {\n",
    "    'format_version': 4,\n",
    "    'model_params': {\n",
    "        'model_architecture': 'resnet50',\n",
    "        'history_num_frames': 10,\n",
    "        'history_step_size': 1,\n",
    "        'history_delta_time': 0.1,\n",
    "        'future_num_frames': 50,\n",
    "        'future_step_size': 1,\n",
    "        'future_delta_time': 0.1\n",
    "    },\n",
    "    \n",
    "    'raster_params': {\n",
    "        'raster_size': [224, 224],\n",
    "        'pixel_size': [0.5, 0.5],\n",
    "        'ego_center': [0.25, 0.5],\n",
    "        'map_type': 'py_semantic',\n",
    "        'satellite_map_key': 'aerial_map/aerial_map.png',\n",
    "        'semantic_map_key': 'semantic_map/semantic_map.pb',\n",
    "        'dataset_meta_key': 'meta.json',\n",
    "        'filter_agents_threshold': 0.5\n",
    "    },\n",
    "    \n",
    "    'train_data_loader': {\n",
    "        'key': 'scenes/train.zarr',\n",
    "        'batch_size': 12,\n",
    "        'shuffle': True,\n",
    "        'num_workers': 4\n",
    "    },\n",
    "    \n",
    "    'train_params': {\n",
    "        'max_num_steps': 100 if DEBUG else 10000,\n",
    "        'checkpoint_every_n_steps': 5000,\n",
    "        \n",
    "        # 'eval_every_n_steps': -1\n",
    "    }\n",
    "}\n",
    "\n",
    "# silence the L5Kit warning\n",
    "cfg['raster_params'].setdefault('disable_traffic_light_faces', False)"
   ]
  },
  {
   "cell_type": "markdown",
   "metadata": {
    "papermill": {
     "duration": 0.008089,
     "end_time": "2025-09-23T19:04:13.761810",
     "exception": false,
     "start_time": "2025-09-23T19:04:13.753721",
     "status": "completed"
    },
    "tags": []
   },
   "source": [
    "## Data Root & LocalDataManager\n",
    "Set `L5KIT_DATA_FOLDER` and create a `LocalDataManager` so file keys like `scenes/train.zarr` resolve correctly."
   ]
  },
  {
   "cell_type": "code",
   "execution_count": 4,
   "metadata": {
    "execution": {
     "iopub.execute_input": "2025-09-23T19:04:13.781941Z",
     "iopub.status.busy": "2025-09-23T19:04:13.781186Z",
     "iopub.status.idle": "2025-09-23T19:04:13.783774Z",
     "shell.execute_reply": "2025-09-23T19:04:13.783334Z"
    },
    "papermill": {
     "duration": 0.013841,
     "end_time": "2025-09-23T19:04:13.783866",
     "exception": false,
     "start_time": "2025-09-23T19:04:13.770025",
     "status": "completed"
    },
    "tags": []
   },
   "outputs": [],
   "source": [
    "# set env variable for data\n",
    "os.environ[\"L5KIT_DATA_FOLDER\"] = DIR_INPUT\n",
    "dm = LocalDataManager(None)"
   ]
  },
  {
   "cell_type": "markdown",
   "metadata": {
    "papermill": {
     "duration": 0.008269,
     "end_time": "2025-09-23T19:04:13.800592",
     "exception": false,
     "start_time": "2025-09-23T19:04:13.792323",
     "status": "completed"
    },
    "tags": []
   },
   "source": [
    "## Dataset & DataLoader\n",
    "Pipeline:\n",
    "1) Build **rasteriser** from `cfg`.  \n",
    "2) Open the **train** zarr.  \n",
    "3) Create **AgentDataset** (per-agent BEV stacks).  \n",
    "4) Wrap with **DataLoader** (shuffle/batch/workers from `cfg`).  \n",
    "\n",
    "Run `print(train_dataset)` to verify sizes and that the dataset is wired correctly."
   ]
  },
  {
   "cell_type": "code",
   "execution_count": 5,
   "metadata": {
    "execution": {
     "iopub.execute_input": "2025-09-23T19:04:13.822052Z",
     "iopub.status.busy": "2025-09-23T19:04:13.821373Z",
     "iopub.status.idle": "2025-09-23T19:10:23.578034Z",
     "shell.execute_reply": "2025-09-23T19:10:23.578420Z"
    },
    "papermill": {
     "duration": 369.769639,
     "end_time": "2025-09-23T19:10:23.578617",
     "exception": false,
     "start_time": "2025-09-23T19:04:13.808978",
     "status": "completed"
    },
    "tags": []
   },
   "outputs": [
    {
     "name": "stdout",
     "output_type": "stream",
     "text": [
      "+------------+------------+------------+---------------+-----------------+----------------------+----------------------+----------------------+---------------------+\n",
      "| Num Scenes | Num Frames | Num Agents | Num TR lights | Total Time (hr) | Avg Frames per Scene | Avg Agents per Frame | Avg Scene Time (sec) | Avg Frame frequency |\n",
      "+------------+------------+------------+---------------+-----------------+----------------------+----------------------+----------------------+---------------------+\n",
      "|   16265    |  4039527   | 320124624  |    38735988   |      112.19     |        248.36        |        79.25         |        24.83         |        10.00        |\n",
      "+------------+------------+------------+---------------+-----------------+----------------------+----------------------+----------------------+---------------------+\n"
     ]
    }
   ],
   "source": [
    "# ===== INIT DATASET\n",
    "train_cfg = cfg[\"train_data_loader\"]\n",
    "\n",
    "# Rasterizer\n",
    "rasterizer = build_rasterizer(cfg, dm)\n",
    "\n",
    "# Train dataset/dataloader\n",
    "train_zarr = ChunkedDataset(dm.require(train_cfg[\"key\"])).open()\n",
    "train_dataset = AgentDataset(cfg, train_zarr, rasterizer)\n",
    "train_dataloader = DataLoader(train_dataset,\n",
    "                              shuffle=train_cfg[\"shuffle\"],\n",
    "                              batch_size=train_cfg[\"batch_size\"],\n",
    "                              num_workers=train_cfg[\"num_workers\"])\n",
    "\n",
    "print(train_dataset)"
   ]
  },
  {
   "cell_type": "markdown",
   "metadata": {
    "papermill": {
     "duration": 0.008542,
     "end_time": "2025-09-23T19:10:23.596153",
     "exception": false,
     "start_time": "2025-09-23T19:10:23.587611",
     "status": "completed"
    },
    "tags": []
   },
   "source": [
    "## Model\n",
    "Architecture:\n",
    "- **ResNet backbone** (ImageNet-pretrained).\n",
    "- First conv widened to accept **map + history channels**.\n",
    "- Head projects features to **2 × future_num_frames** outputs (x, y per step).\n",
    "\n",
    "Output shape before loss: `(batch_size, future_num_frames*2)`."
   ]
  },
  {
   "cell_type": "code",
   "execution_count": 6,
   "metadata": {
    "execution": {
     "iopub.execute_input": "2025-09-23T19:10:23.624503Z",
     "iopub.status.busy": "2025-09-23T19:10:23.623756Z",
     "iopub.status.idle": "2025-09-23T19:10:23.625962Z",
     "shell.execute_reply": "2025-09-23T19:10:23.626315Z"
    },
    "papermill": {
     "duration": 0.020659,
     "end_time": "2025-09-23T19:10:23.626450",
     "exception": false,
     "start_time": "2025-09-23T19:10:23.605791",
     "status": "completed"
    },
    "tags": []
   },
   "outputs": [],
   "source": [
    "class LyftModel(nn.Module):\n",
    "    \n",
    "    def __init__(self, cfg: Dict):\n",
    "        super().__init__()\n",
    "        \n",
    "        self.backbone = resnet18(pretrained=True, progress=True)\n",
    "        \n",
    "        num_history_channels = (cfg[\"model_params\"][\"history_num_frames\"] + 1) * 2\n",
    "        num_in_channels = 3 + num_history_channels\n",
    "\n",
    "        self.backbone.conv1 = nn.Conv2d(\n",
    "            num_in_channels,\n",
    "            self.backbone.conv1.out_channels,\n",
    "            kernel_size=self.backbone.conv1.kernel_size,\n",
    "            stride=self.backbone.conv1.stride,\n",
    "            padding=self.backbone.conv1.padding,\n",
    "            bias=False,\n",
    "        )\n",
    "        \n",
    "        # This is 512 for resnet18 and resnet34;\n",
    "        # And it is 2048 for the other resnets\n",
    "        backbone_out_features = 512\n",
    "\n",
    "        # X, Y coords for the future positions (output shape: Bx50x2)\n",
    "        num_targets = 2 * cfg[\"model_params\"][\"future_num_frames\"]\n",
    "\n",
    "        # You can add more layers here.\n",
    "        self.head = nn.Sequential(\n",
    "            # nn.Dropout(0.2),\n",
    "            nn.Linear(in_features=backbone_out_features, out_features=4096),\n",
    "        )\n",
    "\n",
    "        self.logit = nn.Linear(4096, out_features=num_targets)\n",
    "        \n",
    "    def forward(self, x):\n",
    "        x = self.backbone.conv1(x)\n",
    "        x = self.backbone.bn1(x)\n",
    "        x = self.backbone.relu(x)\n",
    "        x = self.backbone.maxpool(x)\n",
    "\n",
    "        x = self.backbone.layer1(x)\n",
    "        x = self.backbone.layer2(x)\n",
    "        x = self.backbone.layer3(x)\n",
    "        x = self.backbone.layer4(x)\n",
    "\n",
    "        x = self.backbone.avgpool(x)\n",
    "        x = torch.flatten(x, 1)\n",
    "        \n",
    "        x = self.head(x)\n",
    "        x = self.logit(x)\n",
    "        \n",
    "        return x"
   ]
  },
  {
   "cell_type": "markdown",
   "metadata": {
    "papermill": {
     "duration": 0.008582,
     "end_time": "2025-09-23T19:10:23.643698",
     "exception": false,
     "start_time": "2025-09-23T19:10:23.635116",
     "status": "completed"
    },
    "tags": []
   },
   "source": [
    "## Initialisation\n",
    "- Move model to **CUDA** if available.\n",
    "- Optimiser: **Adam (lr=1e-3)**.\n",
    "- Loss: `MSELoss(reduction=\"none\")` so we can mask invalid steps with `target_availabilities`.\n",
    "\n",
    "Sanity check: print the device; you should see `cuda:0` on a GPU session."
   ]
  },
  {
   "cell_type": "code",
   "execution_count": 7,
   "metadata": {
    "execution": {
     "iopub.execute_input": "2025-09-23T19:10:23.733216Z",
     "iopub.status.busy": "2025-09-23T19:10:23.732647Z",
     "iopub.status.idle": "2025-09-23T19:10:28.075536Z",
     "shell.execute_reply": "2025-09-23T19:10:28.076000Z"
    },
    "papermill": {
     "duration": 4.42331,
     "end_time": "2025-09-23T19:10:28.076154",
     "exception": false,
     "start_time": "2025-09-23T19:10:23.652844",
     "status": "completed"
    },
    "tags": []
   },
   "outputs": [
    {
     "name": "stderr",
     "output_type": "stream",
     "text": [
      "Downloading: \"https://download.pytorch.org/models/resnet18-5c106cde.pth\" to /root/.cache/torch/checkpoints/resnet18-5c106cde.pth\n"
     ]
    },
    {
     "data": {
      "application/vnd.jupyter.widget-view+json": {
       "model_id": "52030ef25e6a4c14a0448faea21c156e",
       "version_major": 2,
       "version_minor": 0
      },
      "text/plain": [
       "HBox(children=(FloatProgress(value=0.0, max=46827520.0), HTML(value='')))"
      ]
     },
     "metadata": {},
     "output_type": "display_data"
    },
    {
     "name": "stdout",
     "output_type": "stream",
     "text": [
      "\n"
     ]
    }
   ],
   "source": [
    "# ==== INIT MODEL\n",
    "device = torch.device(\"cuda:0\" if torch.cuda.is_available() else \"cpu\")\n",
    "\n",
    "model = LyftModel(cfg)\n",
    "model.to(device)\n",
    "optimizer = optim.Adam(model.parameters(), lr=1e-3)\n",
    "\n",
    "# Later we have to filter the invalid steps.\n",
    "criterion = nn.MSELoss(reduction=\"none\")"
   ]
  },
  {
   "cell_type": "code",
   "execution_count": 8,
   "metadata": {
    "execution": {
     "iopub.execute_input": "2025-09-23T19:10:28.100591Z",
     "iopub.status.busy": "2025-09-23T19:10:28.099742Z",
     "iopub.status.idle": "2025-09-23T19:10:28.103118Z",
     "shell.execute_reply": "2025-09-23T19:10:28.102637Z"
    },
    "papermill": {
     "duration": 0.016664,
     "end_time": "2025-09-23T19:10:28.103209",
     "exception": false,
     "start_time": "2025-09-23T19:10:28.086545",
     "status": "completed"
    },
    "tags": []
   },
   "outputs": [
    {
     "data": {
      "text/plain": [
       "device(type='cuda', index=0)"
      ]
     },
     "execution_count": 8,
     "metadata": {},
     "output_type": "execute_result"
    }
   ],
   "source": [
    "device"
   ]
  },
  {
   "cell_type": "markdown",
   "metadata": {
    "papermill": {
     "duration": 0.009772,
     "end_time": "2025-09-23T19:10:28.123045",
     "exception": false,
     "start_time": "2025-09-23T19:10:28.113273",
     "status": "completed"
    },
    "tags": []
   },
   "source": [
    "## Training\n",
    "Loop outline per step:\n",
    "1) Get next batch; re-create iterator on `StopIteration`.\n",
    "2) **Forward**: model predicts future `(x, y)`; reshape to match targets.\n",
    "3) **Loss**: MSE → multiply by `target_availabilities` → mean.\n",
    "4) **Backward**: zero grad → backward → step.\n",
    "5) Every `checkpoint_every_n_steps`, save a checkpoint (when not in `DEBUG`).\n",
    "\n",
    "Progress bar shows current loss and a short moving average for stability."
   ]
  },
  {
   "cell_type": "code",
   "execution_count": 9,
   "metadata": {
    "execution": {
     "iopub.execute_input": "2025-09-23T19:10:28.147557Z",
     "iopub.status.busy": "2025-09-23T19:10:28.146981Z",
     "iopub.status.idle": "2025-09-23T19:10:28.150179Z",
     "shell.execute_reply": "2025-09-23T19:10:28.149699Z"
    },
    "papermill": {
     "duration": 0.017401,
     "end_time": "2025-09-23T19:10:28.150263",
     "exception": false,
     "start_time": "2025-09-23T19:10:28.132862",
     "status": "completed"
    },
    "tags": []
   },
   "outputs": [
    {
     "name": "stdout",
     "output_type": "stream",
     "text": [
      "DEBUG: False | max_num_steps: 25000 | ckpt_every: 1000\n"
     ]
    }
   ],
   "source": [
    "# === TRAINING LENGTH & CHECKPOINTS\n",
    "DEBUG = False  # enable saving\n",
    "\n",
    "# choose training length (pick ONE value)\n",
    "cfg['train_params']['max_num_steps'] = 25000      # solid baseline run\n",
    "\n",
    "# how often to checkpoint during training\n",
    "cfg['train_params']['checkpoint_every_n_steps'] = 1000\n",
    "\n",
    "print(\"DEBUG:\", DEBUG,\n",
    "      \"| max_num_steps:\", cfg['train_params']['max_num_steps'],\n",
    "      \"| ckpt_every:\", cfg['train_params']['checkpoint_every_n_steps'])"
   ]
  },
  {
   "cell_type": "code",
   "execution_count": 10,
   "metadata": {
    "execution": {
     "iopub.execute_input": "2025-09-23T19:10:28.180755Z",
     "iopub.status.busy": "2025-09-23T19:10:28.180175Z",
     "iopub.status.idle": "2025-09-24T00:07:31.528757Z",
     "shell.execute_reply": "2025-09-24T00:07:31.527690Z"
    },
    "papermill": {
     "duration": 17823.368631,
     "end_time": "2025-09-24T00:07:31.528997",
     "exception": false,
     "start_time": "2025-09-23T19:10:28.160366",
     "status": "completed"
    },
    "tags": []
   },
   "outputs": [
    {
     "name": "stderr",
     "output_type": "stream",
     "text": [
      "loss: 1.8312768936157227 loss(avg): 2.2297130322456358: 100%|██████████| 25000/25000 [4:57:00<00:00,  1.40it/s]\n"
     ]
    }
   ],
   "source": [
    "# ==== TRAIN LOOP\n",
    "tr_it = iter(train_dataloader)\n",
    "\n",
    "progress_bar = tqdm(range(cfg[\"train_params\"][\"max_num_steps\"]))\n",
    "losses_train = []\n",
    "\n",
    "for itr in progress_bar:\n",
    "\n",
    "    try:\n",
    "        data = next(tr_it)\n",
    "    except StopIteration:\n",
    "        tr_it = iter(train_dataloader)\n",
    "        data = next(tr_it)\n",
    "\n",
    "    model.train()\n",
    "    torch.set_grad_enabled(True)\n",
    "    \n",
    "    # Forward pass\n",
    "    inputs = data[\"image\"].to(device)\n",
    "    target_availabilities = data[\"target_availabilities\"].unsqueeze(-1).to(device)\n",
    "    targets = data[\"target_positions\"].to(device)\n",
    "    \n",
    "    outputs = model(inputs).reshape(targets.shape)\n",
    "    loss = criterion(outputs, targets)\n",
    "\n",
    "    # not all the output steps are valid, but we can filter them out from the loss using availabilities\n",
    "    loss = loss * target_availabilities\n",
    "    loss = loss.mean()\n",
    "\n",
    "    # Backward pass\n",
    "    optimizer.zero_grad()\n",
    "    loss.backward()\n",
    "    optimizer.step()\n",
    "\n",
    "    losses_train.append(loss.item())\n",
    "\n",
    "    if (itr+1) % cfg['train_params']['checkpoint_every_n_steps'] == 0 and not DEBUG:\n",
    "        torch.save(model.state_dict(), f'model_state_{itr}.pth')\n",
    "    \n",
    "    progress_bar.set_description(f\"loss: {loss.item()} loss(avg): {np.mean(losses_train[-100:])}\")"
   ]
  },
  {
   "cell_type": "markdown",
   "metadata": {
    "papermill": {
     "duration": 10.240988,
     "end_time": "2025-09-24T00:07:54.668368",
     "exception": false,
     "start_time": "2025-09-24T00:07:44.427380",
     "status": "completed"
    },
    "tags": []
   },
   "source": [
    "## Save Final Weights  \n",
    "Save `model_state_last.pth` after training (when `DEBUG` is `False`) for downstream inference or fine-tuning."
   ]
  },
  {
   "cell_type": "code",
   "execution_count": 11,
   "metadata": {
    "execution": {
     "iopub.execute_input": "2025-09-24T00:08:14.960600Z",
     "iopub.status.busy": "2025-09-24T00:08:14.960062Z",
     "iopub.status.idle": "2025-09-24T00:08:15.022716Z",
     "shell.execute_reply": "2025-09-24T00:08:15.023076Z"
    },
    "papermill": {
     "duration": 10.198675,
     "end_time": "2025-09-24T00:08:15.023200",
     "exception": false,
     "start_time": "2025-09-24T00:08:04.824525",
     "status": "completed"
    },
    "tags": []
   },
   "outputs": [
    {
     "name": "stdout",
     "output_type": "stream",
     "text": [
      "Saved: /kaggle/working/model_state_last.pth | size (bytes): 57140587\n"
     ]
    }
   ],
   "source": [
    "# always save final weights\n",
    "import os, torch\n",
    "\n",
    "save_path = \"/kaggle/working/model_state_last.pth\"\n",
    "torch.save(model.state_dict(), save_path)\n",
    "print(\"Saved:\", save_path, \"| size (bytes):\", os.path.getsize(save_path))"
   ]
  }
 ],
 "metadata": {
  "kaggle": {
   "accelerator": "gpu",
   "dataSources": [
    {
     "databundleVersionId": 1472735,
     "sourceId": 19990,
     "sourceType": "competition"
    },
    {
     "sourceId": 43970252,
     "sourceType": "kernelVersion"
    }
   ],
   "dockerImageVersionId": 29995,
   "isGpuEnabled": true,
   "isInternetEnabled": true,
   "language": "python",
   "sourceType": "notebook"
  },
  "kernelspec": {
   "display_name": "Python 3",
   "language": "python",
   "name": "python3"
  },
  "language_info": {
   "codemirror_mode": {
    "name": "ipython",
    "version": 3
   },
   "file_extension": ".py",
   "mimetype": "text/x-python",
   "name": "python",
   "nbconvert_exporter": "python",
   "pygments_lexer": "ipython3",
   "version": "3.7.6"
  },
  "papermill": {
   "duration": 18261.779225,
   "end_time": "2025-09-24T00:08:26.529921",
   "environment_variables": {},
   "exception": null,
   "input_path": "__notebook__.ipynb",
   "output_path": "__notebook__.ipynb",
   "parameters": {},
   "start_time": "2025-09-23T19:04:04.750696",
   "version": "2.1.0"
  },
  "widgets": {
   "application/vnd.jupyter.widget-state+json": {
    "state": {
     "4e24fd34c0a343dd88b70394d1c06859": {
      "model_module": "@jupyter-widgets/controls",
      "model_module_version": "1.5.0",
      "model_name": "DescriptionStyleModel",
      "state": {
       "_model_module": "@jupyter-widgets/controls",
       "_model_module_version": "1.5.0",
       "_model_name": "DescriptionStyleModel",
       "_view_count": null,
       "_view_module": "@jupyter-widgets/base",
       "_view_module_version": "1.2.0",
       "_view_name": "StyleView",
       "description_width": ""
      }
     },
     "52030ef25e6a4c14a0448faea21c156e": {
      "model_module": "@jupyter-widgets/controls",
      "model_module_version": "1.5.0",
      "model_name": "HBoxModel",
      "state": {
       "_dom_classes": [],
       "_model_module": "@jupyter-widgets/controls",
       "_model_module_version": "1.5.0",
       "_model_name": "HBoxModel",
       "_view_count": null,
       "_view_module": "@jupyter-widgets/controls",
       "_view_module_version": "1.5.0",
       "_view_name": "HBoxView",
       "box_style": "",
       "children": [
        "IPY_MODEL_b128b057d0534692828bd1f7d20f0740",
        "IPY_MODEL_a30dbfb6712c4f4fb44a995273ba7e79"
       ],
       "layout": "IPY_MODEL_99d06820628e42f9b2d6d9523a8f2f18"
      }
     },
     "99d06820628e42f9b2d6d9523a8f2f18": {
      "model_module": "@jupyter-widgets/base",
      "model_module_version": "1.2.0",
      "model_name": "LayoutModel",
      "state": {
       "_model_module": "@jupyter-widgets/base",
       "_model_module_version": "1.2.0",
       "_model_name": "LayoutModel",
       "_view_count": null,
       "_view_module": "@jupyter-widgets/base",
       "_view_module_version": "1.2.0",
       "_view_name": "LayoutView",
       "align_content": null,
       "align_items": null,
       "align_self": null,
       "border": null,
       "bottom": null,
       "display": null,
       "flex": null,
       "flex_flow": null,
       "grid_area": null,
       "grid_auto_columns": null,
       "grid_auto_flow": null,
       "grid_auto_rows": null,
       "grid_column": null,
       "grid_gap": null,
       "grid_row": null,
       "grid_template_areas": null,
       "grid_template_columns": null,
       "grid_template_rows": null,
       "height": null,
       "justify_content": null,
       "justify_items": null,
       "left": null,
       "margin": null,
       "max_height": null,
       "max_width": null,
       "min_height": null,
       "min_width": null,
       "object_fit": null,
       "object_position": null,
       "order": null,
       "overflow": null,
       "overflow_x": null,
       "overflow_y": null,
       "padding": null,
       "right": null,
       "top": null,
       "visibility": null,
       "width": null
      }
     },
     "9b5cfa3327804536b278b404d5f1034a": {
      "model_module": "@jupyter-widgets/base",
      "model_module_version": "1.2.0",
      "model_name": "LayoutModel",
      "state": {
       "_model_module": "@jupyter-widgets/base",
       "_model_module_version": "1.2.0",
       "_model_name": "LayoutModel",
       "_view_count": null,
       "_view_module": "@jupyter-widgets/base",
       "_view_module_version": "1.2.0",
       "_view_name": "LayoutView",
       "align_content": null,
       "align_items": null,
       "align_self": null,
       "border": null,
       "bottom": null,
       "display": null,
       "flex": null,
       "flex_flow": null,
       "grid_area": null,
       "grid_auto_columns": null,
       "grid_auto_flow": null,
       "grid_auto_rows": null,
       "grid_column": null,
       "grid_gap": null,
       "grid_row": null,
       "grid_template_areas": null,
       "grid_template_columns": null,
       "grid_template_rows": null,
       "height": null,
       "justify_content": null,
       "justify_items": null,
       "left": null,
       "margin": null,
       "max_height": null,
       "max_width": null,
       "min_height": null,
       "min_width": null,
       "object_fit": null,
       "object_position": null,
       "order": null,
       "overflow": null,
       "overflow_x": null,
       "overflow_y": null,
       "padding": null,
       "right": null,
       "top": null,
       "visibility": null,
       "width": null
      }
     },
     "9d7917c1906a404597177e24e992cf93": {
      "model_module": "@jupyter-widgets/controls",
      "model_module_version": "1.5.0",
      "model_name": "ProgressStyleModel",
      "state": {
       "_model_module": "@jupyter-widgets/controls",
       "_model_module_version": "1.5.0",
       "_model_name": "ProgressStyleModel",
       "_view_count": null,
       "_view_module": "@jupyter-widgets/base",
       "_view_module_version": "1.2.0",
       "_view_name": "StyleView",
       "bar_color": null,
       "description_width": "initial"
      }
     },
     "a30dbfb6712c4f4fb44a995273ba7e79": {
      "model_module": "@jupyter-widgets/controls",
      "model_module_version": "1.5.0",
      "model_name": "HTMLModel",
      "state": {
       "_dom_classes": [],
       "_model_module": "@jupyter-widgets/controls",
       "_model_module_version": "1.5.0",
       "_model_name": "HTMLModel",
       "_view_count": null,
       "_view_module": "@jupyter-widgets/controls",
       "_view_module_version": "1.5.0",
       "_view_name": "HTMLView",
       "description": "",
       "description_tooltip": null,
       "layout": "IPY_MODEL_f617abdeff9448299ff77e4c593a5e27",
       "placeholder": "​",
       "style": "IPY_MODEL_4e24fd34c0a343dd88b70394d1c06859",
       "value": " 44.7M/44.7M [00:03&lt;00:00, 11.8MB/s]"
      }
     },
     "b128b057d0534692828bd1f7d20f0740": {
      "model_module": "@jupyter-widgets/controls",
      "model_module_version": "1.5.0",
      "model_name": "FloatProgressModel",
      "state": {
       "_dom_classes": [],
       "_model_module": "@jupyter-widgets/controls",
       "_model_module_version": "1.5.0",
       "_model_name": "FloatProgressModel",
       "_view_count": null,
       "_view_module": "@jupyter-widgets/controls",
       "_view_module_version": "1.5.0",
       "_view_name": "ProgressView",
       "bar_style": "success",
       "description": "100%",
       "description_tooltip": null,
       "layout": "IPY_MODEL_9b5cfa3327804536b278b404d5f1034a",
       "max": 46827520.0,
       "min": 0.0,
       "orientation": "horizontal",
       "style": "IPY_MODEL_9d7917c1906a404597177e24e992cf93",
       "value": 46827520.0
      }
     },
     "f617abdeff9448299ff77e4c593a5e27": {
      "model_module": "@jupyter-widgets/base",
      "model_module_version": "1.2.0",
      "model_name": "LayoutModel",
      "state": {
       "_model_module": "@jupyter-widgets/base",
       "_model_module_version": "1.2.0",
       "_model_name": "LayoutModel",
       "_view_count": null,
       "_view_module": "@jupyter-widgets/base",
       "_view_module_version": "1.2.0",
       "_view_name": "LayoutView",
       "align_content": null,
       "align_items": null,
       "align_self": null,
       "border": null,
       "bottom": null,
       "display": null,
       "flex": null,
       "flex_flow": null,
       "grid_area": null,
       "grid_auto_columns": null,
       "grid_auto_flow": null,
       "grid_auto_rows": null,
       "grid_column": null,
       "grid_gap": null,
       "grid_row": null,
       "grid_template_areas": null,
       "grid_template_columns": null,
       "grid_template_rows": null,
       "height": null,
       "justify_content": null,
       "justify_items": null,
       "left": null,
       "margin": null,
       "max_height": null,
       "max_width": null,
       "min_height": null,
       "min_width": null,
       "object_fit": null,
       "object_position": null,
       "order": null,
       "overflow": null,
       "overflow_x": null,
       "overflow_y": null,
       "padding": null,
       "right": null,
       "top": null,
       "visibility": null,
       "width": null
      }
     }
    },
    "version_major": 2,
    "version_minor": 0
   }
  }
 },
 "nbformat": 4,
 "nbformat_minor": 4
}
